{
 "cells": [
  {
   "cell_type": "markdown",
   "metadata": {},
   "source": [
    "## 파이썬을 활용한 모델링"
   ]
  },
  {
   "cell_type": "markdown",
   "metadata": {},
   "source": [
    "### CH1. SVM"
   ]
  },
  {
   "cell_type": "code",
   "execution_count": 574,
   "metadata": {},
   "outputs": [],
   "source": [
    "##패키지 로드\n",
    "from sklearn.datasets import load_iris\n",
    "import pandas as pd\n",
    "import numpy as np\n",
    "import matplotlib.pyplot as plt\n",
    "from sklearn import svm\n",
    "import matplotlib.colors as colors\n",
    "import random\n",
    "import os\n",
    "import tensorflow as tf\n",
    "from sklearn.model_selection import train_test_split\n",
    "from sklearn.metrics import classification_report, confusion_matrix\n",
    "from sklearn.model_selection import GridSearchCV\n",
    "import seaborn as sns"
   ]
  },
  {
   "cell_type": "code",
   "execution_count": 575,
   "metadata": {},
   "outputs": [],
   "source": [
    "##씨드 고정\n",
    "def seed_everything(seed):\n",
    "    random.seed(int(seed))\n",
    "    np.random.seed(int(seed))\n",
    "    os.environ[\"PYTHONHASHSEED\"] = str(seed)\n",
    "    tf.random.set_seed(int(seed))\n",
    "seed_everything('2728')"
   ]
  },
  {
   "cell_type": "code",
   "execution_count": 576,
   "metadata": {
    "scrolled": true
   },
   "outputs": [
    {
     "data": {
      "text/html": [
       "<div>\n",
       "<style scoped>\n",
       "    .dataframe tbody tr th:only-of-type {\n",
       "        vertical-align: middle;\n",
       "    }\n",
       "\n",
       "    .dataframe tbody tr th {\n",
       "        vertical-align: top;\n",
       "    }\n",
       "\n",
       "    .dataframe thead th {\n",
       "        text-align: right;\n",
       "    }\n",
       "</style>\n",
       "<table border=\"1\" class=\"dataframe\">\n",
       "  <thead>\n",
       "    <tr style=\"text-align: right;\">\n",
       "      <th></th>\n",
       "      <th>sepal length (cm)</th>\n",
       "      <th>sepal width (cm)</th>\n",
       "      <th>petal length (cm)</th>\n",
       "      <th>petal width (cm)</th>\n",
       "      <th>target</th>\n",
       "    </tr>\n",
       "  </thead>\n",
       "  <tbody>\n",
       "    <tr>\n",
       "      <th>0</th>\n",
       "      <td>5.1</td>\n",
       "      <td>3.5</td>\n",
       "      <td>1.4</td>\n",
       "      <td>0.2</td>\n",
       "      <td>setosa</td>\n",
       "    </tr>\n",
       "    <tr>\n",
       "      <th>1</th>\n",
       "      <td>4.9</td>\n",
       "      <td>3.0</td>\n",
       "      <td>1.4</td>\n",
       "      <td>0.2</td>\n",
       "      <td>setosa</td>\n",
       "    </tr>\n",
       "    <tr>\n",
       "      <th>2</th>\n",
       "      <td>4.7</td>\n",
       "      <td>3.2</td>\n",
       "      <td>1.3</td>\n",
       "      <td>0.2</td>\n",
       "      <td>setosa</td>\n",
       "    </tr>\n",
       "    <tr>\n",
       "      <th>3</th>\n",
       "      <td>4.6</td>\n",
       "      <td>3.1</td>\n",
       "      <td>1.5</td>\n",
       "      <td>0.2</td>\n",
       "      <td>setosa</td>\n",
       "    </tr>\n",
       "    <tr>\n",
       "      <th>4</th>\n",
       "      <td>5.0</td>\n",
       "      <td>3.6</td>\n",
       "      <td>1.4</td>\n",
       "      <td>0.2</td>\n",
       "      <td>setosa</td>\n",
       "    </tr>\n",
       "  </tbody>\n",
       "</table>\n",
       "</div>"
      ],
      "text/plain": [
       "   sepal length (cm)  sepal width (cm)  petal length (cm)  petal width (cm)  \\\n",
       "0                5.1               3.5                1.4               0.2   \n",
       "1                4.9               3.0                1.4               0.2   \n",
       "2                4.7               3.2                1.3               0.2   \n",
       "3                4.6               3.1                1.5               0.2   \n",
       "4                5.0               3.6                1.4               0.2   \n",
       "\n",
       "   target  \n",
       "0  setosa  \n",
       "1  setosa  \n",
       "2  setosa  \n",
       "3  setosa  \n",
       "4  setosa  "
      ]
     },
     "execution_count": 576,
     "metadata": {},
     "output_type": "execute_result"
    }
   ],
   "source": [
    "#데이터 로드\n",
    "data1 = pd.read_csv(\"C:/Users/User/Desktop/주분3주차패키지/data1.csv\")\n",
    "data1.head()"
   ]
  },
  {
   "cell_type": "code",
   "execution_count": 577,
   "metadata": {},
   "outputs": [],
   "source": [
    "# 데이터 라벨 바꾸기\n",
    "data1['target'] = data1['target'].map({'versicolor':1,'setosa':0,'virginica':2})"
   ]
  },
  {
   "cell_type": "code",
   "execution_count": 578,
   "metadata": {},
   "outputs": [],
   "source": [
    "X, y = data1.iloc[:, 0:2], data1.iloc[:,-1]"
   ]
  },
  {
   "cell_type": "code",
   "execution_count": 579,
   "metadata": {},
   "outputs": [],
   "source": [
    "# 테스트 데이터 분리\n",
    "X_train, X_test, y_train, y_test = train_test_split(X, y, test_size = 0.3, random_state = 2728)"
   ]
  },
  {
   "cell_type": "code",
   "execution_count": 580,
   "metadata": {},
   "outputs": [],
   "source": [
    "# 하이퍼파라미터 정하기\n",
    "param_grid1 = [{'kernel':['linear'], 'C':[0.01, 0.1, 1, 10, 30, 50, 70]}]"
   ]
  },
  {
   "cell_type": "code",
   "execution_count": 581,
   "metadata": {},
   "outputs": [],
   "source": [
    "#그리드 서치\n",
    "clf1 = svm.SVC(random_state = 2728) "
   ]
  },
  {
   "cell_type": "code",
   "execution_count": 582,
   "metadata": {},
   "outputs": [],
   "source": [
    "grid_search1 = GridSearchCV(clf1, param_grid = param_grid1, cv = 5, scoring = 'accuracy', refit=True)"
   ]
  },
  {
   "cell_type": "code",
   "execution_count": 583,
   "metadata": {
    "scrolled": true
   },
   "outputs": [
    {
     "data": {
      "text/plain": [
       "GridSearchCV(cv=5, estimator=SVC(random_state=2728),\n",
       "             param_grid=[{'C': [0.01, 0.1, 1, 10, 30, 50, 70],\n",
       "                          'kernel': ['linear']}],\n",
       "             scoring='accuracy')"
      ]
     },
     "execution_count": 583,
     "metadata": {},
     "output_type": "execute_result"
    }
   ],
   "source": [
    "grid_search1.fit(X_train, y_train)"
   ]
  },
  {
   "cell_type": "code",
   "execution_count": 584,
   "metadata": {},
   "outputs": [
    {
     "name": "stdout",
     "output_type": "stream",
     "text": [
      "최적 조합 :  {'C': 1, 'kernel': 'linear'}\n",
      "스코어 :  0.819047619047619\n"
     ]
    }
   ],
   "source": [
    "# 최적 파라미터, 스코어 출력\n",
    "print('최적 조합 : ', grid_search1.best_params_)\n",
    "print('스코어 : ', grid_search1.best_score_)"
   ]
  },
  {
   "cell_type": "code",
   "execution_count": 585,
   "metadata": {
    "scrolled": false
   },
   "outputs": [
    {
     "name": "stdout",
     "output_type": "stream",
     "text": [
      "혼동 행렬 :  [[20  0  0]\n",
      " [ 0  7  3]\n",
      " [ 0  7  8]]\n"
     ]
    }
   ],
   "source": [
    "# 테스트 데이터에 대해 예측후 확인\n",
    "y_pred1 = grid_search1.predict(X_test)\n",
    "print('혼동 행렬 : ', confusion_matrix(y_test, y_pred1))"
   ]
  },
  {
   "cell_type": "code",
   "execution_count": 586,
   "metadata": {},
   "outputs": [],
   "source": [
    "# Decision Boundary 그리기\n",
    "x_min, x_max = X.iloc[:, 0].min() - 1, X.iloc[:, 0].max() + 1\n",
    "y_min, y_max = X.iloc[:, 1].min() - 1, X.iloc[:, 1].max() + 1\n",
    "xx, yy = np.meshgrid(np.arange(x_min, x_max, h),\n",
    "                     np.arange(y_min, y_max, h))"
   ]
  },
  {
   "cell_type": "code",
   "execution_count": 587,
   "metadata": {},
   "outputs": [],
   "source": [
    "Z1 = grid_search1.predict(np.c_[xx.ravel(), yy.ravel()])"
   ]
  },
  {
   "cell_type": "code",
   "execution_count": 588,
   "metadata": {},
   "outputs": [],
   "source": [
    "Z1 = Z1.reshape(xx.shape)"
   ]
  },
  {
   "cell_type": "code",
   "execution_count": 590,
   "metadata": {
    "scrolled": true
   },
   "outputs": [
    {
     "data": {
      "text/plain": [
       "<matplotlib.contour.QuadContourSet at 0x208ebebce80>"
      ]
     },
     "execution_count": 590,
     "metadata": {},
     "output_type": "execute_result"
    },
    {
     "data": {
      "image/png": "[encoded data removed]",
      "text/plain": [
       "<Figure size 432x288 with 1 Axes>"
      ]
     },
     "metadata": {
      "needs_background": "light"
     },
     "output_type": "display_data"
    }
   ],
   "source": [
    "plt.contourf(xx, yy, Z1, cmap=plt.cm.coolwarm, alpha=0.7)"
   ]
  },
  {
   "cell_type": "code",
   "execution_count": 592,
   "metadata": {},
   "outputs": [
    {
     "data": {
      "text/plain": [
       "(150,)"
      ]
     },
     "execution_count": 592,
     "metadata": {},
     "output_type": "execute_result"
    }
   ],
   "source": [
    "X.iloc[:, 0].shape"
   ]
  },
  {
   "cell_type": "code",
   "execution_count": 591,
   "metadata": {},
   "outputs": [
    {
     "data": {
      "text/plain": [
       "Text(0.5, 1.0, 'SVM')"
      ]
     },
     "execution_count": 591,
     "metadata": {},
     "output_type": "execute_result"
    },
    {
     "data": {
      "image/png": "[encoded data removed]",
      "text/plain": [
       "<Figure size 432x288 with 1 Axes>"
      ]
     },
     "metadata": {},
     "output_type": "display_data"
    }
   ],
   "source": [
    "plt.scatter(X.iloc[:, 0], X.iloc[:, 1], c=y.values, cmap=plt.cm.coolwarm)\n",
    "plt.xlabel('Sepal length')\n",
    "plt.ylabel('Sepal width')\n",
    "plt.xlim(xx.min(), xx.max())\n",
    "plt.ylim(yy.min(), yy.max())\n",
    "plt.xticks(())\n",
    "plt.yticks(())\n",
    "plt.title('SVM')"
   ]
  },
  {
   "cell_type": "code",
   "execution_count": 543,
   "metadata": {},
   "outputs": [],
   "source": [
    "# 방법2\n",
    "from mlxtend.plotting import plot_decision_regions"
   ]
  },
  {
   "cell_type": "code",
   "execution_count": 544,
   "metadata": {
    "scrolled": true
   },
   "outputs": [
    {
     "data": {
      "text/plain": [
       "<AxesSubplot:>"
      ]
     },
     "execution_count": 544,
     "metadata": {},
     "output_type": "execute_result"
    },
    {
     "data": {
      "image/png": "[encoded data removed]",
      "text/plain": [
       "<Figure size 432x288 with 1 Axes>"
      ]
     },
     "metadata": {
      "needs_background": "light"
     },
     "output_type": "display_data"
    }
   ],
   "source": [
    "plot_decision_regions(X=np.array(X), \n",
    "                      y=np.array(y),\n",
    "                      clf=grid_search1, \n",
    "                      legend=2)"
   ]
  },
  {
   "cell_type": "markdown",
   "metadata": {},
   "source": [
    "### 2. LGBM"
   ]
  },
  {
   "cell_type": "code",
   "execution_count": 545,
   "metadata": {},
   "outputs": [],
   "source": [
    "data3 = pd.read_csv(\"C:/Users/User/Desktop/주분3주차패키지/data2.csv\")"
   ]
  },
  {
   "cell_type": "code",
   "execution_count": 546,
   "metadata": {
    "scrolled": true
   },
   "outputs": [
    {
     "data": {
      "text/html": [
       "<div>\n",
       "<style scoped>\n",
       "    .dataframe tbody tr th:only-of-type {\n",
       "        vertical-align: middle;\n",
       "    }\n",
       "\n",
       "    .dataframe tbody tr th {\n",
       "        vertical-align: top;\n",
       "    }\n",
       "\n",
       "    .dataframe thead th {\n",
       "        text-align: right;\n",
       "    }\n",
       "</style>\n",
       "<table border=\"1\" class=\"dataframe\">\n",
       "  <thead>\n",
       "    <tr style=\"text-align: right;\">\n",
       "      <th></th>\n",
       "      <th>target</th>\n",
       "      <th>MedInc</th>\n",
       "      <th>HouseAge</th>\n",
       "      <th>AveRooms</th>\n",
       "      <th>AveBedrms</th>\n",
       "      <th>Population</th>\n",
       "      <th>AveOccup</th>\n",
       "      <th>Latitude</th>\n",
       "      <th>Longitude</th>\n",
       "    </tr>\n",
       "  </thead>\n",
       "  <tbody>\n",
       "    <tr>\n",
       "      <th>0</th>\n",
       "      <td>4.526</td>\n",
       "      <td>8.3252</td>\n",
       "      <td>41.0</td>\n",
       "      <td>6.984127</td>\n",
       "      <td>1.023810</td>\n",
       "      <td>322.0</td>\n",
       "      <td>2.555556</td>\n",
       "      <td>37.88</td>\n",
       "      <td>-122.23</td>\n",
       "    </tr>\n",
       "    <tr>\n",
       "      <th>1</th>\n",
       "      <td>3.585</td>\n",
       "      <td>8.3014</td>\n",
       "      <td>21.0</td>\n",
       "      <td>6.238137</td>\n",
       "      <td>0.971880</td>\n",
       "      <td>2401.0</td>\n",
       "      <td>2.109842</td>\n",
       "      <td>37.86</td>\n",
       "      <td>-122.22</td>\n",
       "    </tr>\n",
       "    <tr>\n",
       "      <th>2</th>\n",
       "      <td>3.521</td>\n",
       "      <td>7.2574</td>\n",
       "      <td>52.0</td>\n",
       "      <td>8.288136</td>\n",
       "      <td>1.073446</td>\n",
       "      <td>496.0</td>\n",
       "      <td>2.802260</td>\n",
       "      <td>37.85</td>\n",
       "      <td>-122.24</td>\n",
       "    </tr>\n",
       "    <tr>\n",
       "      <th>3</th>\n",
       "      <td>3.413</td>\n",
       "      <td>5.6431</td>\n",
       "      <td>52.0</td>\n",
       "      <td>5.817352</td>\n",
       "      <td>1.073059</td>\n",
       "      <td>558.0</td>\n",
       "      <td>2.547945</td>\n",
       "      <td>37.85</td>\n",
       "      <td>-122.25</td>\n",
       "    </tr>\n",
       "    <tr>\n",
       "      <th>4</th>\n",
       "      <td>3.422</td>\n",
       "      <td>3.8462</td>\n",
       "      <td>52.0</td>\n",
       "      <td>6.281853</td>\n",
       "      <td>1.081081</td>\n",
       "      <td>565.0</td>\n",
       "      <td>2.181467</td>\n",
       "      <td>37.85</td>\n",
       "      <td>-122.25</td>\n",
       "    </tr>\n",
       "  </tbody>\n",
       "</table>\n",
       "</div>"
      ],
      "text/plain": [
       "   target  MedInc  HouseAge  AveRooms  AveBedrms  Population  AveOccup  \\\n",
       "0   4.526  8.3252      41.0  6.984127   1.023810       322.0  2.555556   \n",
       "1   3.585  8.3014      21.0  6.238137   0.971880      2401.0  2.109842   \n",
       "2   3.521  7.2574      52.0  8.288136   1.073446       496.0  2.802260   \n",
       "3   3.413  5.6431      52.0  5.817352   1.073059       558.0  2.547945   \n",
       "4   3.422  3.8462      52.0  6.281853   1.081081       565.0  2.181467   \n",
       "\n",
       "   Latitude  Longitude  \n",
       "0     37.88    -122.23  \n",
       "1     37.86    -122.22  \n",
       "2     37.85    -122.24  \n",
       "3     37.85    -122.25  \n",
       "4     37.85    -122.25  "
      ]
     },
     "execution_count": 546,
     "metadata": {},
     "output_type": "execute_result"
    }
   ],
   "source": [
    "data3.head()"
   ]
  },
  {
   "cell_type": "code",
   "execution_count": 547,
   "metadata": {},
   "outputs": [
    {
     "data": {
      "text/plain": [
       "(20640, 9)"
      ]
     },
     "execution_count": 547,
     "metadata": {},
     "output_type": "execute_result"
    }
   ],
   "source": [
    "data3.shape"
   ]
  },
  {
   "cell_type": "code",
   "execution_count": 548,
   "metadata": {},
   "outputs": [],
   "source": [
    "X = data3.iloc[:,1:]\n",
    "y = data3.iloc[:,0]"
   ]
  },
  {
   "cell_type": "code",
   "execution_count": 549,
   "metadata": {},
   "outputs": [],
   "source": [
    "# 테스트 데이터 분리\n",
    "X_train, X_test, y_train, y_test = train_test_split(X, y, test_size = 0.3, random_state = 2728)"
   ]
  },
  {
   "cell_type": "code",
   "execution_count": 550,
   "metadata": {},
   "outputs": [],
   "source": [
    "from lightgbm import LGBMRegressor\n",
    "lgbm = LGBMRegressor(n_estimators=200, random_state = 2728)"
   ]
  },
  {
   "cell_type": "code",
   "execution_count": 551,
   "metadata": {
    "scrolled": true
   },
   "outputs": [
    {
     "data": {
      "text/plain": [
       "GridSearchCV(cv=5, estimator=LGBMRegressor(n_estimators=200, random_state=2728),\n",
       "             param_grid={'max_depth': [10, 20],\n",
       "                         'min_child_samples': [20, 40, 60, 80],\n",
       "                         'num_leaves': [60, 70, 80]},\n",
       "             verbose=False)"
      ]
     },
     "execution_count": 551,
     "metadata": {},
     "output_type": "execute_result"
    }
   ],
   "source": [
    "params = {'max_depth': [10, 20],\n",
    "          'min_child_samples': [20, 40, 60, 80],\n",
    "         'num_leaves':[60, 70, 80]}\n",
    "\n",
    "grid = GridSearchCV(lgbm, param_grid=params, cv = 5, refit = True, verbose = False)\n",
    "grid.fit(X_train, y_train)"
   ]
  },
  {
   "cell_type": "code",
   "execution_count": 552,
   "metadata": {},
   "outputs": [
    {
     "name": "stdout",
     "output_type": "stream",
     "text": [
      "최적 파라미터:  {'max_depth': 20, 'min_child_samples': 40, 'num_leaves': 70}\n",
      "스코어 :  0.8426104755096642\n"
     ]
    }
   ],
   "source": [
    "print(\"최적 파라미터: \", grid.best_params_)\n",
    "print('스코어 : ', grid.best_score_)"
   ]
  },
  {
   "cell_type": "code",
   "execution_count": 553,
   "metadata": {},
   "outputs": [
    {
     "name": "stdout",
     "output_type": "stream",
     "text": [
      "Training until validation scores don't improve for 100 rounds\n",
      "[50]\tvalid_0's l2: 0.215022\n",
      "[100]\tvalid_0's l2: 0.20389\n",
      "[150]\tvalid_0's l2: 0.202002\n",
      "[200]\tvalid_0's l2: 0.201827\n",
      "Did not meet early stopping. Best iteration is:\n",
      "[172]\tvalid_0's l2: 0.201571\n"
     ]
    },
    {
     "data": {
      "text/plain": [
       "LGBMRegressor(max_depth=20, min_child_samples=40, n_estimators=200,\n",
       "              num_leaves=70, random_sate=2728)"
      ]
     },
     "execution_count": 553,
     "metadata": {},
     "output_type": "execute_result"
    }
   ],
   "source": [
    "# 위 결과를 적용하여 재학습\n",
    "lgbm = LGBMRegressor(n_estimators=200, num_leaves=70, max_depth = 20, min_child_samples = 40, random_sate = 2728)\n",
    "\n",
    "evals = [(X_test, y_test)]\n",
    "lgbm.fit(X_train, y_train, early_stopping_rounds=100, eval_metric='mse',\n",
    "         eval_set=evals, verbose=50)"
   ]
  },
  {
   "cell_type": "code",
   "execution_count": 554,
   "metadata": {},
   "outputs": [
    {
     "name": "stdout",
     "output_type": "stream",
     "text": [
      "RMSE :  0.44896689508565013\n"
     ]
    }
   ],
   "source": [
    "# RMSE 구하기\n",
    "y_pred2 = lgbm.predict(X_test)\n",
    "from sklearn.metrics import mean_squared_error \n",
    "MSE = mean_squared_error(y_test, y_pred2) \n",
    "RMSE = np.sqrt(MSE)\n",
    "print('RMSE : ', RMSE)"
   ]
  },
  {
   "cell_type": "markdown",
   "metadata": {},
   "source": [
    "### 3. LSTM"
   ]
  },
  {
   "cell_type": "code",
   "execution_count": 593,
   "metadata": {},
   "outputs": [],
   "source": [
    "# 데이터 로드\n",
    "samsung = pd.read_csv(\"C:/Users/User/Desktop/주분3주차패키지/samsung.csv\")"
   ]
  },
  {
   "cell_type": "code",
   "execution_count": 594,
   "metadata": {},
   "outputs": [
    {
     "data": {
      "text/html": [
       "<div>\n",
       "<style scoped>\n",
       "    .dataframe tbody tr th:only-of-type {\n",
       "        vertical-align: middle;\n",
       "    }\n",
       "\n",
       "    .dataframe tbody tr th {\n",
       "        vertical-align: top;\n",
       "    }\n",
       "\n",
       "    .dataframe thead th {\n",
       "        text-align: right;\n",
       "    }\n",
       "</style>\n",
       "<table border=\"1\" class=\"dataframe\">\n",
       "  <thead>\n",
       "    <tr style=\"text-align: right;\">\n",
       "      <th></th>\n",
       "      <th>Date</th>\n",
       "      <th>Price</th>\n",
       "      <th>Open</th>\n",
       "      <th>High</th>\n",
       "      <th>Low</th>\n",
       "      <th>Vol.</th>\n",
       "    </tr>\n",
       "  </thead>\n",
       "  <tbody>\n",
       "    <tr>\n",
       "      <th>0</th>\n",
       "      <td>2019-10-01</td>\n",
       "      <td>48,850</td>\n",
       "      <td>48,900</td>\n",
       "      <td>49,100</td>\n",
       "      <td>48,650</td>\n",
       "      <td>6.20M</td>\n",
       "    </tr>\n",
       "    <tr>\n",
       "      <th>1</th>\n",
       "      <td>2019-10-02</td>\n",
       "      <td>47,600</td>\n",
       "      <td>48,350</td>\n",
       "      <td>48,400</td>\n",
       "      <td>47,600</td>\n",
       "      <td>8.37M</td>\n",
       "    </tr>\n",
       "    <tr>\n",
       "      <th>2</th>\n",
       "      <td>2019-10-03</td>\n",
       "      <td>47,600</td>\n",
       "      <td>47,600</td>\n",
       "      <td>47,600</td>\n",
       "      <td>47,600</td>\n",
       "      <td>-</td>\n",
       "    </tr>\n",
       "    <tr>\n",
       "      <th>3</th>\n",
       "      <td>2019-10-04</td>\n",
       "      <td>48,000</td>\n",
       "      <td>47,400</td>\n",
       "      <td>48,650</td>\n",
       "      <td>47,350</td>\n",
       "      <td>8.46M</td>\n",
       "    </tr>\n",
       "    <tr>\n",
       "      <th>4</th>\n",
       "      <td>2019-10-06</td>\n",
       "      <td>48,000</td>\n",
       "      <td>48,000</td>\n",
       "      <td>48,000</td>\n",
       "      <td>48,000</td>\n",
       "      <td>-</td>\n",
       "    </tr>\n",
       "  </tbody>\n",
       "</table>\n",
       "</div>"
      ],
      "text/plain": [
       "         Date   Price    Open    High     Low   Vol.\n",
       "0  2019-10-01  48,850  48,900  49,100  48,650  6.20M\n",
       "1  2019-10-02  47,600  48,350  48,400  47,600  8.37M\n",
       "2  2019-10-03  47,600  47,600  47,600  47,600      -\n",
       "3  2019-10-04  48,000  47,400  48,650  47,350  8.46M\n",
       "4  2019-10-06  48,000  48,000  48,000  48,000      -"
      ]
     },
     "execution_count": 594,
     "metadata": {},
     "output_type": "execute_result"
    }
   ],
   "source": [
    "samsung.head()"
   ]
  },
  {
   "cell_type": "code",
   "execution_count": 595,
   "metadata": {},
   "outputs": [
    {
     "name": "stdout",
     "output_type": "stream",
     "text": [
      "(627, 6)\n"
     ]
    }
   ],
   "source": [
    "print(samsung.shape)"
   ]
  },
  {
   "cell_type": "code",
   "execution_count": 596,
   "metadata": {},
   "outputs": [],
   "source": [
    "# 콤마제거\n",
    "def remove_comma(x):\n",
    "    return x.replace(',', '')"
   ]
  },
  {
   "cell_type": "code",
   "execution_count": 597,
   "metadata": {},
   "outputs": [],
   "source": [
    "samsung['Price'] = samsung['Price'].apply(remove_comma)\n",
    "samsung['Open'] = samsung['Open'].apply(remove_comma)\n",
    "samsung['High'] = samsung['High'].apply(remove_comma)\n",
    "samsung['Low'] = samsung['Low'].apply(remove_comma)"
   ]
  },
  {
   "cell_type": "code",
   "execution_count": 598,
   "metadata": {},
   "outputs": [],
   "source": [
    "# 수치형으로 바꾸기\n",
    "samsung = samsung.astype({'Price':'float64',\n",
    "                          'Open':'float64',\n",
    "             'High':'float64',\n",
    "             'Low':'float64'})"
   ]
  },
  {
   "cell_type": "code",
   "execution_count": 599,
   "metadata": {},
   "outputs": [
    {
     "data": {
      "text/html": [
       "<div>\n",
       "<style scoped>\n",
       "    .dataframe tbody tr th:only-of-type {\n",
       "        vertical-align: middle;\n",
       "    }\n",
       "\n",
       "    .dataframe tbody tr th {\n",
       "        vertical-align: top;\n",
       "    }\n",
       "\n",
       "    .dataframe thead th {\n",
       "        text-align: right;\n",
       "    }\n",
       "</style>\n",
       "<table border=\"1\" class=\"dataframe\">\n",
       "  <thead>\n",
       "    <tr style=\"text-align: right;\">\n",
       "      <th></th>\n",
       "      <th>Date</th>\n",
       "      <th>Price</th>\n",
       "      <th>Open</th>\n",
       "      <th>High</th>\n",
       "      <th>Low</th>\n",
       "      <th>Vol.</th>\n",
       "    </tr>\n",
       "  </thead>\n",
       "  <tbody>\n",
       "    <tr>\n",
       "      <th>0</th>\n",
       "      <td>2019-10-01</td>\n",
       "      <td>48850.0</td>\n",
       "      <td>48900.0</td>\n",
       "      <td>49100.0</td>\n",
       "      <td>48650.0</td>\n",
       "      <td>6.20M</td>\n",
       "    </tr>\n",
       "    <tr>\n",
       "      <th>1</th>\n",
       "      <td>2019-10-02</td>\n",
       "      <td>47600.0</td>\n",
       "      <td>48350.0</td>\n",
       "      <td>48400.0</td>\n",
       "      <td>47600.0</td>\n",
       "      <td>8.37M</td>\n",
       "    </tr>\n",
       "    <tr>\n",
       "      <th>2</th>\n",
       "      <td>2019-10-03</td>\n",
       "      <td>47600.0</td>\n",
       "      <td>47600.0</td>\n",
       "      <td>47600.0</td>\n",
       "      <td>47600.0</td>\n",
       "      <td>-</td>\n",
       "    </tr>\n",
       "    <tr>\n",
       "      <th>3</th>\n",
       "      <td>2019-10-04</td>\n",
       "      <td>48000.0</td>\n",
       "      <td>47400.0</td>\n",
       "      <td>48650.0</td>\n",
       "      <td>47350.0</td>\n",
       "      <td>8.46M</td>\n",
       "    </tr>\n",
       "    <tr>\n",
       "      <th>4</th>\n",
       "      <td>2019-10-06</td>\n",
       "      <td>48000.0</td>\n",
       "      <td>48000.0</td>\n",
       "      <td>48000.0</td>\n",
       "      <td>48000.0</td>\n",
       "      <td>-</td>\n",
       "    </tr>\n",
       "  </tbody>\n",
       "</table>\n",
       "</div>"
      ],
      "text/plain": [
       "         Date    Price     Open     High      Low   Vol.\n",
       "0  2019-10-01  48850.0  48900.0  49100.0  48650.0  6.20M\n",
       "1  2019-10-02  47600.0  48350.0  48400.0  47600.0  8.37M\n",
       "2  2019-10-03  47600.0  47600.0  47600.0  47600.0      -\n",
       "3  2019-10-04  48000.0  47400.0  48650.0  47350.0  8.46M\n",
       "4  2019-10-06  48000.0  48000.0  48000.0  48000.0      -"
      ]
     },
     "execution_count": 599,
     "metadata": {},
     "output_type": "execute_result"
    }
   ],
   "source": [
    "samsung.head()"
   ]
  },
  {
   "cell_type": "code",
   "execution_count": 600,
   "metadata": {},
   "outputs": [],
   "source": [
    "# 테스트 데이터 분리\n",
    "\n",
    "TEST_SIZE = 60\n",
    "WINDOW_SIZE = 20\n",
    "\n",
    "train = samsung[:-TEST_SIZE]\n",
    "test = samsung[-TEST_SIZE:]"
   ]
  },
  {
   "cell_type": "code",
   "execution_count": 601,
   "metadata": {},
   "outputs": [],
   "source": [
    "from sklearn.preprocessing import MinMaxScaler\n",
    "\n",
    "# 스케일링\n",
    "scaler = MinMaxScaler()\n",
    "scale_cols = ['Price', 'Open', 'High', 'Low']\n",
    "\n",
    "train_scaled = scaler.fit_transform(train[scale_cols])\n",
    "train_scaled = pd.DataFrame(train_scaled)\n",
    "train_scaled.columns = scale_cols\n",
    "\n",
    "test_scaled = scaler.transform(test[scale_cols])\n",
    "test_scaled = pd.DataFrame(test_scaled)\n",
    "test_scaled.columns = scale_cols"
   ]
  },
  {
   "cell_type": "code",
   "execution_count": 602,
   "metadata": {},
   "outputs": [
    {
     "data": {
      "text/html": [
       "<div>\n",
       "<style scoped>\n",
       "    .dataframe tbody tr th:only-of-type {\n",
       "        vertical-align: middle;\n",
       "    }\n",
       "\n",
       "    .dataframe tbody tr th {\n",
       "        vertical-align: top;\n",
       "    }\n",
       "\n",
       "    .dataframe thead th {\n",
       "        text-align: right;\n",
       "    }\n",
       "</style>\n",
       "<table border=\"1\" class=\"dataframe\">\n",
       "  <thead>\n",
       "    <tr style=\"text-align: right;\">\n",
       "      <th></th>\n",
       "      <th>Price</th>\n",
       "      <th>Open</th>\n",
       "      <th>High</th>\n",
       "      <th>Low</th>\n",
       "    </tr>\n",
       "  </thead>\n",
       "  <tbody>\n",
       "    <tr>\n",
       "      <th>0</th>\n",
       "      <td>0.130928</td>\n",
       "      <td>0.131524</td>\n",
       "      <td>0.104421</td>\n",
       "      <td>0.133124</td>\n",
       "    </tr>\n",
       "    <tr>\n",
       "      <th>1</th>\n",
       "      <td>0.105155</td>\n",
       "      <td>0.120042</td>\n",
       "      <td>0.091251</td>\n",
       "      <td>0.111111</td>\n",
       "    </tr>\n",
       "    <tr>\n",
       "      <th>2</th>\n",
       "      <td>0.105155</td>\n",
       "      <td>0.104384</td>\n",
       "      <td>0.076199</td>\n",
       "      <td>0.111111</td>\n",
       "    </tr>\n",
       "  </tbody>\n",
       "</table>\n",
       "</div>"
      ],
      "text/plain": [
       "      Price      Open      High       Low\n",
       "0  0.130928  0.131524  0.104421  0.133124\n",
       "1  0.105155  0.120042  0.091251  0.111111\n",
       "2  0.105155  0.104384  0.076199  0.111111"
      ]
     },
     "execution_count": 602,
     "metadata": {},
     "output_type": "execute_result"
    }
   ],
   "source": [
    "train_scaled.head(3)"
   ]
  },
  {
   "cell_type": "code",
   "execution_count": 603,
   "metadata": {},
   "outputs": [
    {
     "data": {
      "text/html": [
       "<div>\n",
       "<style scoped>\n",
       "    .dataframe tbody tr th:only-of-type {\n",
       "        vertical-align: middle;\n",
       "    }\n",
       "\n",
       "    .dataframe tbody tr th {\n",
       "        vertical-align: top;\n",
       "    }\n",
       "\n",
       "    .dataframe thead th {\n",
       "        text-align: right;\n",
       "    }\n",
       "</style>\n",
       "<table border=\"1\" class=\"dataframe\">\n",
       "  <thead>\n",
       "    <tr style=\"text-align: right;\">\n",
       "      <th></th>\n",
       "      <th>Price</th>\n",
       "      <th>Open</th>\n",
       "      <th>High</th>\n",
       "      <th>Low</th>\n",
       "    </tr>\n",
       "  </thead>\n",
       "  <tbody>\n",
       "    <tr>\n",
       "      <th>0</th>\n",
       "      <td>0.653608</td>\n",
       "      <td>0.661795</td>\n",
       "      <td>0.593603</td>\n",
       "      <td>0.664570</td>\n",
       "    </tr>\n",
       "    <tr>\n",
       "      <th>1</th>\n",
       "      <td>0.647423</td>\n",
       "      <td>0.653445</td>\n",
       "      <td>0.584196</td>\n",
       "      <td>0.645702</td>\n",
       "    </tr>\n",
       "    <tr>\n",
       "      <th>2</th>\n",
       "      <td>0.630928</td>\n",
       "      <td>0.645094</td>\n",
       "      <td>0.580433</td>\n",
       "      <td>0.645702</td>\n",
       "    </tr>\n",
       "  </tbody>\n",
       "</table>\n",
       "</div>"
      ],
      "text/plain": [
       "      Price      Open      High       Low\n",
       "0  0.653608  0.661795  0.593603  0.664570\n",
       "1  0.647423  0.653445  0.584196  0.645702\n",
       "2  0.630928  0.645094  0.580433  0.645702"
      ]
     },
     "execution_count": 603,
     "metadata": {},
     "output_type": "execute_result"
    }
   ],
   "source": [
    "test_scaled.head(3)"
   ]
  },
  {
   "cell_type": "code",
   "execution_count": 604,
   "metadata": {},
   "outputs": [],
   "source": [
    "# Window size 별로 데이터 자르기\n",
    "def make_dataset(data, label, window_size=20):\n",
    "    feature_list = []\n",
    "    label_list = []\n",
    "    for i in range(len(data) - window_size):\n",
    "        feature_list.append(np.array(data.iloc[i:i+window_size]))\n",
    "        label_list.append(np.array(label.iloc[i+window_size]))\n",
    "    return np.array(feature_list), np.array(label_list)"
   ]
  },
  {
   "cell_type": "code",
   "execution_count": 605,
   "metadata": {},
   "outputs": [
    {
     "data": {
      "text/plain": [
       "((437, 20, 3), (110, 20, 3))"
      ]
     },
     "execution_count": 605,
     "metadata": {},
     "output_type": "execute_result"
    }
   ],
   "source": [
    "from sklearn.model_selection import train_test_split\n",
    "\n",
    "#데이터 자른 후 Validation셋 분리\n",
    "feature_cols = ['Open', 'High', 'Low']\n",
    "label_cols = ['Price']\n",
    "\n",
    "train_feature = train_scaled[feature_cols]\n",
    "train_label = train_scaled[label_cols]\n",
    "\n",
    "train_feature, train_label = make_dataset(train_feature, train_label, 20)\n",
    "\n",
    "x_train, x_valid, y_train, y_valid = train_test_split(train_feature, train_label, test_size=0.2)\n",
    "x_train.shape, x_valid.shape"
   ]
  },
  {
   "cell_type": "code",
   "execution_count": 606,
   "metadata": {},
   "outputs": [
    {
     "data": {
      "text/plain": [
       "((40, 20, 3), (40, 1))"
      ]
     },
     "execution_count": 606,
     "metadata": {},
     "output_type": "execute_result"
    }
   ],
   "source": [
    "# 테스트셋도 똑같이 변환\n",
    "test_feature = test_scaled[feature_cols]\n",
    "test_label = test_scaled[label_cols]\n",
    "\n",
    "test_feature.shape, test_label.shape\n",
    "\n",
    "test_feature, test_label = make_dataset(test_feature, test_label, 20)\n",
    "test_feature.shape, test_label.shape"
   ]
  },
  {
   "cell_type": "code",
   "execution_count": 607,
   "metadata": {},
   "outputs": [],
   "source": [
    "from keras.models import Sequential\n",
    "from keras.layers import Dense\n",
    "from keras.callbacks import EarlyStopping, ModelCheckpoint\n",
    "from keras.layers import LSTM\n",
    "from keras.layers import Dense, Dropout, Activation"
   ]
  },
  {
   "cell_type": "code",
   "execution_count": 570,
   "metadata": {},
   "outputs": [],
   "source": [
    "# 모델 만들기\n",
    "model = Sequential()\n",
    "model.add(LSTM(16, \n",
    "               input_shape=(train_feature.shape[1], train_feature.shape[2]), \n",
    "               activation='relu', \n",
    "               return_sequences=False)\n",
    "          )\n",
    "model.add(Dense(64))\n",
    "model.add(Dropout(0.3))\n",
    "model.add(Dense(64))\n",
    "model.add(Dense(1))"
   ]
  },
  {
   "cell_type": "code",
   "execution_count": 571,
   "metadata": {
    "scrolled": true
   },
   "outputs": [
    {
     "name": "stdout",
     "output_type": "stream",
     "text": [
      "Epoch 1/100\n",
      "28/28 [==============================] - 2s 15ms/step - loss: 0.1105 - mse: 0.1105 - val_loss: 0.0088 - val_mse: 0.0088\n",
      "\n",
      "Epoch 00001: val_loss improved from inf to 0.00876, saving model to model\\tmp_checkpoint.h5\n",
      "Epoch 2/100\n",
      "28/28 [==============================] - 0s 5ms/step - loss: 0.0089 - mse: 0.0089 - val_loss: 0.0029 - val_mse: 0.0029\n",
      "\n",
      "Epoch 00002: val_loss improved from 0.00876 to 0.00292, saving model to model\\tmp_checkpoint.h5\n",
      "Epoch 3/100\n",
      "28/28 [==============================] - 0s 6ms/step - loss: 0.0062 - mse: 0.0062 - val_loss: 0.0019 - val_mse: 0.0019\n",
      "\n",
      "Epoch 00003: val_loss improved from 0.00292 to 0.00194, saving model to model\\tmp_checkpoint.h5\n",
      "Epoch 4/100\n",
      "28/28 [==============================] - 0s 6ms/step - loss: 0.0051 - mse: 0.0051 - val_loss: 0.0019 - val_mse: 0.0019\n",
      "\n",
      "Epoch 00004: val_loss improved from 0.00194 to 0.00186, saving model to model\\tmp_checkpoint.h5\n",
      "Epoch 5/100\n",
      "28/28 [==============================] - 0s 7ms/step - loss: 0.0048 - mse: 0.0048 - val_loss: 0.0024 - val_mse: 0.0024\n",
      "\n",
      "Epoch 00005: val_loss did not improve from 0.00186\n",
      "Epoch 6/100\n",
      "28/28 [==============================] - 0s 6ms/step - loss: 0.0046 - mse: 0.0046 - val_loss: 0.0018 - val_mse: 0.0018\n",
      "\n",
      "Epoch 00006: val_loss improved from 0.00186 to 0.00176, saving model to model\\tmp_checkpoint.h5\n",
      "Epoch 7/100\n",
      "28/28 [==============================] - 0s 6ms/step - loss: 0.0029 - mse: 0.0029 - val_loss: 0.0013 - val_mse: 0.0013\n",
      "\n",
      "Epoch 00007: val_loss improved from 0.00176 to 0.00129, saving model to model\\tmp_checkpoint.h5\n",
      "Epoch 8/100\n",
      "28/28 [==============================] - 0s 6ms/step - loss: 0.0038 - mse: 0.0038 - val_loss: 0.0016 - val_mse: 0.0016\n",
      "\n",
      "Epoch 00008: val_loss did not improve from 0.00129\n",
      "Epoch 9/100\n",
      "28/28 [==============================] - 0s 6ms/step - loss: 0.0030 - mse: 0.0030 - val_loss: 0.0012 - val_mse: 0.0012\n",
      "\n",
      "Epoch 00009: val_loss improved from 0.00129 to 0.00125, saving model to model\\tmp_checkpoint.h5\n",
      "Epoch 10/100\n",
      "28/28 [==============================] - 0s 6ms/step - loss: 0.0031 - mse: 0.0031 - val_loss: 0.0012 - val_mse: 0.0012\n",
      "\n",
      "Epoch 00010: val_loss improved from 0.00125 to 0.00119, saving model to model\\tmp_checkpoint.h5\n",
      "Epoch 11/100\n",
      "28/28 [==============================] - 0s 6ms/step - loss: 0.0028 - mse: 0.0028 - val_loss: 0.0012 - val_mse: 0.0012\n",
      "\n",
      "Epoch 00011: val_loss did not improve from 0.00119\n",
      "Epoch 12/100\n",
      "28/28 [==============================] - 0s 6ms/step - loss: 0.0026 - mse: 0.0026 - val_loss: 0.0011 - val_mse: 0.0011\n",
      "\n",
      "Epoch 00012: val_loss improved from 0.00119 to 0.00113, saving model to model\\tmp_checkpoint.h5\n",
      "Epoch 13/100\n",
      "28/28 [==============================] - 0s 6ms/step - loss: 0.0028 - mse: 0.0028 - val_loss: 0.0010 - val_mse: 0.0010\n",
      "\n",
      "Epoch 00013: val_loss improved from 0.00113 to 0.00104, saving model to model\\tmp_checkpoint.h5\n",
      "Epoch 14/100\n",
      "28/28 [==============================] - 0s 7ms/step - loss: 0.0026 - mse: 0.0026 - val_loss: 0.0011 - val_mse: 0.0011\n",
      "\n",
      "Epoch 00014: val_loss did not improve from 0.00104\n",
      "Epoch 15/100\n",
      "28/28 [==============================] - 0s 6ms/step - loss: 0.0026 - mse: 0.0026 - val_loss: 0.0012 - val_mse: 0.0012\n",
      "\n",
      "Epoch 00015: val_loss did not improve from 0.00104\n",
      "Epoch 16/100\n",
      "28/28 [==============================] - 0s 6ms/step - loss: 0.0021 - mse: 0.0021 - val_loss: 0.0013 - val_mse: 0.0013\n",
      "\n",
      "Epoch 00016: val_loss did not improve from 0.00104\n",
      "Epoch 17/100\n",
      "28/28 [==============================] - 0s 6ms/step - loss: 0.0025 - mse: 0.0025 - val_loss: 0.0012 - val_mse: 0.0012\n",
      "\n",
      "Epoch 00017: val_loss did not improve from 0.00104\n",
      "Epoch 18/100\n",
      "28/28 [==============================] - 0s 5ms/step - loss: 0.0022 - mse: 0.0022 - val_loss: 0.0011 - val_mse: 0.0011\n",
      "\n",
      "Epoch 00018: val_loss did not improve from 0.00104\n",
      "Epoch 19/100\n",
      "28/28 [==============================] - 0s 5ms/step - loss: 0.0021 - mse: 0.0021 - val_loss: 9.3036e-04 - val_mse: 9.3036e-04\n",
      "\n",
      "Epoch 00019: val_loss improved from 0.00104 to 0.00093, saving model to model\\tmp_checkpoint.h5\n",
      "Epoch 20/100\n",
      "28/28 [==============================] - 0s 5ms/step - loss: 0.0017 - mse: 0.0017 - val_loss: 0.0011 - val_mse: 0.0011\n",
      "\n",
      "Epoch 00020: val_loss did not improve from 0.00093\n",
      "Epoch 21/100\n",
      "28/28 [==============================] - 0s 5ms/step - loss: 0.0021 - mse: 0.0021 - val_loss: 0.0011 - val_mse: 0.0011\n",
      "\n",
      "Epoch 00021: val_loss did not improve from 0.00093\n",
      "Epoch 22/100\n",
      "28/28 [==============================] - 0s 5ms/step - loss: 0.0019 - mse: 0.0019 - val_loss: 0.0014 - val_mse: 0.0014\n",
      "\n",
      "Epoch 00022: val_loss did not improve from 0.00093\n",
      "Epoch 23/100\n",
      "28/28 [==============================] - 0s 5ms/step - loss: 0.0017 - mse: 0.0017 - val_loss: 9.2111e-04 - val_mse: 9.2111e-04\n",
      "\n",
      "Epoch 00023: val_loss improved from 0.00093 to 0.00092, saving model to model\\tmp_checkpoint.h5\n",
      "Epoch 24/100\n",
      "28/28 [==============================] - 0s 5ms/step - loss: 0.0019 - mse: 0.0019 - val_loss: 8.6308e-04 - val_mse: 8.6308e-04\n",
      "\n",
      "Epoch 00024: val_loss improved from 0.00092 to 0.00086, saving model to model\\tmp_checkpoint.h5\n",
      "Epoch 25/100\n",
      "28/28 [==============================] - 0s 5ms/step - loss: 0.0017 - mse: 0.0017 - val_loss: 0.0010 - val_mse: 0.0010\n",
      "\n",
      "Epoch 00025: val_loss did not improve from 0.00086\n",
      "Epoch 26/100\n",
      "28/28 [==============================] - 0s 6ms/step - loss: 0.0016 - mse: 0.0016 - val_loss: 0.0011 - val_mse: 0.0011\n",
      "\n",
      "Epoch 00026: val_loss did not improve from 0.00086\n",
      "Epoch 27/100\n",
      "28/28 [==============================] - 0s 5ms/step - loss: 0.0017 - mse: 0.0017 - val_loss: 9.3304e-04 - val_mse: 9.3304e-04\n",
      "\n",
      "Epoch 00027: val_loss did not improve from 0.00086\n",
      "Epoch 28/100\n",
      "28/28 [==============================] - 0s 6ms/step - loss: 0.0016 - mse: 0.0016 - val_loss: 0.0010 - val_mse: 0.0010\n",
      "\n",
      "Epoch 00028: val_loss did not improve from 0.00086\n",
      "Epoch 29/100\n",
      "28/28 [==============================] - 0s 6ms/step - loss: 0.0016 - mse: 0.0016 - val_loss: 8.1470e-04 - val_mse: 8.1470e-04\n",
      "\n",
      "Epoch 00029: val_loss improved from 0.00086 to 0.00081, saving model to model\\tmp_checkpoint.h5\n",
      "Epoch 30/100\n",
      "28/28 [==============================] - 0s 6ms/step - loss: 0.0016 - mse: 0.0016 - val_loss: 8.6519e-04 - val_mse: 8.6519e-04\n",
      "\n",
      "Epoch 00030: val_loss did not improve from 0.00081\n",
      "Epoch 31/100\n",
      "28/28 [==============================] - 0s 6ms/step - loss: 0.0013 - mse: 0.0013 - val_loss: 8.5071e-04 - val_mse: 8.5071e-04\n",
      "\n",
      "Epoch 00031: val_loss did not improve from 0.00081\n",
      "Epoch 32/100\n",
      "28/28 [==============================] - 0s 6ms/step - loss: 0.0015 - mse: 0.0015 - val_loss: 8.4663e-04 - val_mse: 8.4663e-04\n",
      "\n",
      "Epoch 00032: val_loss did not improve from 0.00081\n",
      "Epoch 33/100\n",
      "28/28 [==============================] - 0s 6ms/step - loss: 0.0012 - mse: 0.0012 - val_loss: 8.4271e-04 - val_mse: 8.4271e-04\n",
      "\n",
      "Epoch 00033: val_loss did not improve from 0.00081\n",
      "Epoch 34/100\n",
      "28/28 [==============================] - 0s 5ms/step - loss: 0.0013 - mse: 0.0013 - val_loss: 0.0012 - val_mse: 0.0012\n",
      "\n",
      "Epoch 00034: val_loss did not improve from 0.00081\n",
      "Epoch 35/100\n",
      "28/28 [==============================] - 0s 6ms/step - loss: 0.0016 - mse: 0.0016 - val_loss: 0.0012 - val_mse: 0.0012\n",
      "\n",
      "Epoch 00035: val_loss did not improve from 0.00081\n",
      "Epoch 36/100\n",
      "28/28 [==============================] - 0s 6ms/step - loss: 0.0016 - mse: 0.0016 - val_loss: 8.1923e-04 - val_mse: 8.1923e-04\n",
      "\n",
      "Epoch 00036: val_loss did not improve from 0.00081\n",
      "Epoch 37/100\n",
      "28/28 [==============================] - 0s 6ms/step - loss: 0.0015 - mse: 0.0015 - val_loss: 0.0011 - val_mse: 0.0011\n",
      "\n",
      "Epoch 00037: val_loss did not improve from 0.00081\n",
      "Epoch 38/100\n",
      "28/28 [==============================] - 0s 6ms/step - loss: 0.0017 - mse: 0.0017 - val_loss: 0.0016 - val_mse: 0.0016\n",
      "\n",
      "Epoch 00038: val_loss did not improve from 0.00081\n",
      "Epoch 39/100\n",
      "28/28 [==============================] - 0s 6ms/step - loss: 0.0014 - mse: 0.0014 - val_loss: 8.9224e-04 - val_mse: 8.9224e-04\n",
      "\n",
      "Epoch 00039: val_loss did not improve from 0.00081\n",
      "Epoch 40/100\n",
      "28/28 [==============================] - 0s 6ms/step - loss: 0.0015 - mse: 0.0015 - val_loss: 8.0650e-04 - val_mse: 8.0650e-04\n",
      "\n",
      "Epoch 00040: val_loss improved from 0.00081 to 0.00081, saving model to model\\tmp_checkpoint.h5\n",
      "Epoch 41/100\n",
      "28/28 [==============================] - 0s 6ms/step - loss: 0.0012 - mse: 0.0012 - val_loss: 0.0010 - val_mse: 0.0010\n",
      "\n",
      "Epoch 00041: val_loss did not improve from 0.00081\n",
      "Epoch 42/100\n",
      "28/28 [==============================] - 0s 6ms/step - loss: 0.0014 - mse: 0.0014 - val_loss: 9.6134e-04 - val_mse: 9.6134e-04\n",
      "\n",
      "Epoch 00042: val_loss did not improve from 0.00081\n",
      "Epoch 43/100\n",
      "28/28 [==============================] - 0s 6ms/step - loss: 0.0012 - mse: 0.0012 - val_loss: 7.9024e-04 - val_mse: 7.9024e-04\n",
      "\n",
      "Epoch 00043: val_loss improved from 0.00081 to 0.00079, saving model to model\\tmp_checkpoint.h5\n",
      "Epoch 44/100\n",
      "28/28 [==============================] - 0s 6ms/step - loss: 0.0013 - mse: 0.0013 - val_loss: 0.0010 - val_mse: 0.0010\n",
      "\n",
      "Epoch 00044: val_loss did not improve from 0.00079\n",
      "Epoch 45/100\n",
      "28/28 [==============================] - 0s 6ms/step - loss: 0.0015 - mse: 0.0015 - val_loss: 0.0011 - val_mse: 0.0011\n",
      "\n",
      "Epoch 00045: val_loss did not improve from 0.00079\n",
      "Epoch 46/100\n",
      "28/28 [==============================] - 0s 6ms/step - loss: 0.0015 - mse: 0.0015 - val_loss: 9.4700e-04 - val_mse: 9.4700e-04\n",
      "\n",
      "Epoch 00046: val_loss did not improve from 0.00079\n",
      "Epoch 47/100\n",
      "28/28 [==============================] - 0s 6ms/step - loss: 0.0015 - mse: 0.0015 - val_loss: 9.1950e-04 - val_mse: 9.1950e-04\n",
      "\n",
      "Epoch 00047: val_loss did not improve from 0.00079\n",
      "Epoch 48/100\n",
      "28/28 [==============================] - 0s 6ms/step - loss: 0.0013 - mse: 0.0013 - val_loss: 0.0013 - val_mse: 0.0013\n",
      "\n",
      "Epoch 00048: val_loss did not improve from 0.00079\n",
      "Epoch 49/100\n",
      "28/28 [==============================] - 0s 6ms/step - loss: 0.0017 - mse: 0.0017 - val_loss: 9.5241e-04 - val_mse: 9.5241e-04\n",
      "\n",
      "Epoch 00049: val_loss did not improve from 0.00079\n",
      "Epoch 50/100\n",
      "28/28 [==============================] - 0s 6ms/step - loss: 0.0013 - mse: 0.0013 - val_loss: 8.4934e-04 - val_mse: 8.4934e-04\n",
      "\n",
      "Epoch 00050: val_loss did not improve from 0.00079\n",
      "Epoch 51/100\n",
      "28/28 [==============================] - 0s 6ms/step - loss: 0.0012 - mse: 0.0012 - val_loss: 7.6353e-04 - val_mse: 7.6353e-04\n",
      "\n",
      "Epoch 00051: val_loss improved from 0.00079 to 0.00076, saving model to model\\tmp_checkpoint.h5\n",
      "Epoch 52/100\n",
      "28/28 [==============================] - 0s 6ms/step - loss: 0.0014 - mse: 0.0014 - val_loss: 7.6376e-04 - val_mse: 7.6376e-04\n",
      "\n",
      "Epoch 00052: val_loss did not improve from 0.00076\n",
      "Epoch 53/100\n",
      "28/28 [==============================] - 0s 6ms/step - loss: 0.0015 - mse: 0.0015 - val_loss: 0.0011 - val_mse: 0.0011\n",
      "\n",
      "Epoch 00053: val_loss did not improve from 0.00076\n",
      "Epoch 54/100\n",
      "28/28 [==============================] - 0s 6ms/step - loss: 0.0014 - mse: 0.0014 - val_loss: 8.9192e-04 - val_mse: 8.9192e-04\n",
      "\n",
      "Epoch 00054: val_loss did not improve from 0.00076\n",
      "Epoch 55/100\n",
      "28/28 [==============================] - 0s 5ms/step - loss: 0.0012 - mse: 0.0012 - val_loss: 8.1792e-04 - val_mse: 8.1792e-04\n",
      "\n",
      "Epoch 00055: val_loss did not improve from 0.00076\n",
      "Epoch 56/100\n",
      "28/28 [==============================] - 0s 5ms/step - loss: 0.0013 - mse: 0.0013 - val_loss: 9.9703e-04 - val_mse: 9.9703e-04\n",
      "\n",
      "Epoch 00056: val_loss did not improve from 0.00076\n",
      "Epoch 57/100\n",
      "28/28 [==============================] - 0s 5ms/step - loss: 0.0015 - mse: 0.0015 - val_loss: 8.8884e-04 - val_mse: 8.8884e-04\n",
      "\n",
      "Epoch 00057: val_loss did not improve from 0.00076\n",
      "Epoch 58/100\n",
      "28/28 [==============================] - 0s 6ms/step - loss: 0.0014 - mse: 0.0014 - val_loss: 9.7075e-04 - val_mse: 9.7075e-04\n",
      "\n",
      "Epoch 00058: val_loss did not improve from 0.00076\n",
      "Epoch 59/100\n",
      "28/28 [==============================] - 0s 7ms/step - loss: 0.0013 - mse: 0.0013 - val_loss: 0.0012 - val_mse: 0.0012\n",
      "\n",
      "Epoch 00059: val_loss did not improve from 0.00076\n",
      "Epoch 60/100\n",
      "28/28 [==============================] - 0s 8ms/step - loss: 0.0013 - mse: 0.0013 - val_loss: 7.8675e-04 - val_mse: 7.8675e-04\n",
      "\n",
      "Epoch 00060: val_loss did not improve from 0.00076\n",
      "Epoch 61/100\n",
      "28/28 [==============================] - 0s 6ms/step - loss: 0.0012 - mse: 0.0012 - val_loss: 7.3629e-04 - val_mse: 7.3629e-04\n",
      "\n",
      "Epoch 00061: val_loss improved from 0.00076 to 0.00074, saving model to model\\tmp_checkpoint.h5\n",
      "Epoch 62/100\n",
      "28/28 [==============================] - 0s 6ms/step - loss: 0.0015 - mse: 0.0015 - val_loss: 7.7891e-04 - val_mse: 7.7891e-04\n",
      "\n",
      "Epoch 00062: val_loss did not improve from 0.00074\n",
      "Epoch 63/100\n",
      "28/28 [==============================] - 0s 6ms/step - loss: 0.0012 - mse: 0.0012 - val_loss: 8.6906e-04 - val_mse: 8.6906e-04\n",
      "\n",
      "Epoch 00063: val_loss did not improve from 0.00074\n",
      "Epoch 64/100\n",
      "28/28 [==============================] - 0s 5ms/step - loss: 0.0015 - mse: 0.0015 - val_loss: 7.6243e-04 - val_mse: 7.6243e-04\n",
      "\n",
      "Epoch 00064: val_loss did not improve from 0.00074\n",
      "Epoch 65/100\n",
      "28/28 [==============================] - 0s 6ms/step - loss: 0.0013 - mse: 0.0013 - val_loss: 7.6437e-04 - val_mse: 7.6437e-04\n",
      "\n",
      "Epoch 00065: val_loss did not improve from 0.00074\n",
      "Epoch 66/100\n",
      "28/28 [==============================] - 0s 5ms/step - loss: 0.0013 - mse: 0.0013 - val_loss: 8.7039e-04 - val_mse: 8.7039e-04\n",
      "\n",
      "Epoch 00066: val_loss did not improve from 0.00074\n",
      "Epoch 67/100\n",
      "28/28 [==============================] - 0s 5ms/step - loss: 0.0012 - mse: 0.0012 - val_loss: 9.4838e-04 - val_mse: 9.4838e-04\n",
      "\n",
      "Epoch 00067: val_loss did not improve from 0.00074\n",
      "Epoch 68/100\n",
      "28/28 [==============================] - 0s 5ms/step - loss: 0.0014 - mse: 0.0014 - val_loss: 9.2133e-04 - val_mse: 9.2133e-04\n",
      "\n",
      "Epoch 00068: val_loss did not improve from 0.00074\n",
      "Epoch 69/100\n",
      "28/28 [==============================] - 0s 5ms/step - loss: 0.0013 - mse: 0.0013 - val_loss: 0.0015 - val_mse: 0.0015\n",
      "\n",
      "Epoch 00069: val_loss did not improve from 0.00074\n",
      "Epoch 70/100\n",
      "28/28 [==============================] - 0s 5ms/step - loss: 0.0014 - mse: 0.0014 - val_loss: 8.0434e-04 - val_mse: 8.0434e-04\n",
      "\n",
      "Epoch 00070: val_loss did not improve from 0.00074\n",
      "Epoch 71/100\n",
      "28/28 [==============================] - 0s 5ms/step - loss: 0.0011 - mse: 0.0011 - val_loss: 9.7305e-04 - val_mse: 9.7305e-04\n",
      "\n",
      "Epoch 00071: val_loss did not improve from 0.00074\n",
      "Epoch 72/100\n",
      "28/28 [==============================] - 0s 5ms/step - loss: 0.0011 - mse: 0.0011 - val_loss: 8.1723e-04 - val_mse: 8.1723e-04\n",
      "\n",
      "Epoch 00072: val_loss did not improve from 0.00074\n",
      "Epoch 73/100\n",
      "28/28 [==============================] - 0s 5ms/step - loss: 0.0012 - mse: 0.0012 - val_loss: 9.9367e-04 - val_mse: 9.9367e-04\n",
      "\n",
      "Epoch 00073: val_loss did not improve from 0.00074\n",
      "Epoch 74/100\n",
      "28/28 [==============================] - 0s 5ms/step - loss: 0.0011 - mse: 0.0011 - val_loss: 8.9924e-04 - val_mse: 8.9924e-04\n",
      "\n",
      "Epoch 00074: val_loss did not improve from 0.00074\n",
      "Epoch 75/100\n",
      "28/28 [==============================] - 0s 5ms/step - loss: 0.0012 - mse: 0.0012 - val_loss: 8.8835e-04 - val_mse: 8.8835e-04\n",
      "\n",
      "Epoch 00075: val_loss did not improve from 0.00074\n",
      "Epoch 76/100\n",
      "28/28 [==============================] - 0s 6ms/step - loss: 0.0012 - mse: 0.0012 - val_loss: 8.8083e-04 - val_mse: 8.8083e-04\n",
      "\n",
      "Epoch 00076: val_loss did not improve from 0.00074\n",
      "Epoch 77/100\n",
      "28/28 [==============================] - 0s 6ms/step - loss: 0.0019 - mse: 0.0019 - val_loss: 7.4957e-04 - val_mse: 7.4957e-04\n",
      "\n",
      "Epoch 00077: val_loss did not improve from 0.00074\n",
      "Epoch 78/100\n",
      "28/28 [==============================] - 0s 6ms/step - loss: 0.0012 - mse: 0.0012 - val_loss: 0.0012 - val_mse: 0.0012\n",
      "\n",
      "Epoch 00078: val_loss did not improve from 0.00074\n",
      "Epoch 79/100\n",
      "28/28 [==============================] - 0s 5ms/step - loss: 0.0013 - mse: 0.0013 - val_loss: 7.9670e-04 - val_mse: 7.9670e-04\n",
      "\n",
      "Epoch 00079: val_loss did not improve from 0.00074\n",
      "Epoch 80/100\n",
      "28/28 [==============================] - 0s 5ms/step - loss: 0.0012 - mse: 0.0012 - val_loss: 9.7166e-04 - val_mse: 9.7166e-04\n",
      "\n",
      "Epoch 00080: val_loss did not improve from 0.00074\n",
      "Epoch 81/100\n",
      "28/28 [==============================] - 0s 6ms/step - loss: 0.0015 - mse: 0.0015 - val_loss: 8.3425e-04 - val_mse: 8.3425e-04\n",
      "\n",
      "Epoch 00081: val_loss did not improve from 0.00074\n"
     ]
    },
    {
     "data": {
      "text/plain": [
       "<tensorflow.python.keras.callbacks.History at 0x208ddad4ac0>"
      ]
     },
     "execution_count": 571,
     "metadata": {},
     "output_type": "execute_result"
    }
   ],
   "source": [
    "# Fitting\n",
    "model.compile(loss='mse', optimizer='adam', metrics=['mse'])\n",
    "early_stop = EarlyStopping(patience=20)\n",
    "model_path = 'model'\n",
    "filename = os.path.join(model_path, 'tmp_checkpoint.h5')\n",
    "checkpoint = ModelCheckpoint(filename, monitor='val_loss', verbose=1, save_best_only=True, mode='auto')\n",
    "model.fit(x_train, y_train, \n",
    "                                    epochs=100, \n",
    "                                    batch_size=16,\n",
    "                                    validation_data=(x_valid, y_valid), \n",
    "                                    callbacks=[early_stop, checkpoint])"
   ]
  },
  {
   "cell_type": "code",
   "execution_count": 572,
   "metadata": {},
   "outputs": [
    {
     "name": "stdout",
     "output_type": "stream",
     "text": [
      "WARNING:tensorflow:6 out of the last 11 calls to <function Model.make_predict_function.<locals>.predict_function at 0x00000208EC3ABEE0> triggered tf.function retracing. Tracing is expensive and the excessive number of tracings could be due to (1) creating @tf.function repeatedly in a loop, (2) passing tensors with different shapes, (3) passing Python objects instead of tensors. For (1), please define your @tf.function outside of the loop. For (2), @tf.function has experimental_relax_shapes=True option that relaxes argument shapes that can avoid unnecessary retracing. For (3), please refer to https://www.tensorflow.org/guide/function#controlling_retracing and https://www.tensorflow.org/api_docs/python/tf/function for  more details.\n"
     ]
    },
    {
     "data": {
      "text/plain": [
       "(40, 1)"
      ]
     },
     "execution_count": 572,
     "metadata": {},
     "output_type": "execute_result"
    }
   ],
   "source": [
    "# Predict\n",
    "model.load_weights(filename)\n",
    "pred = model.predict(test_feature)\n",
    "\n",
    "pred.shape"
   ]
  },
  {
   "cell_type": "code",
   "execution_count": 573,
   "metadata": {},
   "outputs": [
    {
     "data": {
      "image/png": "[encoded data removed]",
      "text/plain": [
       "<Figure size 864x648 with 1 Axes>"
      ]
     },
     "metadata": {
      "needs_background": "light"
     },
     "output_type": "display_data"
    }
   ],
   "source": [
    "# 그래프 그려 확인\n",
    "plt.figure(figsize=(12, 9))\n",
    "plt.plot(test_label, label = 'true y')\n",
    "plt.plot(pred, label = 'pred y')\n",
    "plt.legend()\n",
    "plt.show()"
   ]
  },
  {
   "cell_type": "code",
   "execution_count": null,
   "metadata": {},
   "outputs": [],
   "source": []
  },
  {
   "cell_type": "code",
   "execution_count": null,
   "metadata": {},
   "outputs": [],
   "source": []
  }
 ],
 "metadata": {
  "kernelspec": {
   "display_name": "Python 3",
   "language": "python",
   "name": "python3"
  },
  "language_info": {
   "codemirror_mode": {
    "name": "ipython",
    "version": 3
   },
   "file_extension": ".py",
   "mimetype": "text/x-python",
   "name": "python",
   "nbconvert_exporter": "python",
   "pygments_lexer": "ipython3",
   "version": "3.8.5"
  }
 },
 "nbformat": 4,
 "nbformat_minor": 4
}
